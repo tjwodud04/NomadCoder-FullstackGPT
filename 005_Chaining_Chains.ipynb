{
 "cells": [
  {
   "cell_type": "code",
   "execution_count": 1,
   "outputs": [],
   "source": [
    "import os\n",
    "\n",
    "from langchain.chat_models import ChatOpenAI\n",
    "from langchain.prompts import ChatPromptTemplate\n",
    "from langchain.callbacks import StreamingStdOutCallbackHandler\n",
    "from dotenv import load_dotenv\n",
    "\n",
    "load_dotenv()\n",
    "OPENAI_API_KEY = os.getenv('OPENAI_API_KEY')\n",
    "\n",
    "chat = ChatOpenAI(\n",
    "    temperature=0.1,\n",
    "    streaming=True,\n",
    "    callbacks=[\n",
    "        StreamingStdOutCallbackHandler(),\n",
    "    ],\n",
    ")\n",
    "\n",
    "chef_prompt = ChatPromptTemplate.from_messages(\n",
    "    [\n",
    "        (\n",
    "            \"system\",\n",
    "            \"\",\n",
    "        ),\n",
    "        (\"human\", \"I want to cook {cuisine} food.\"),\n",
    "    ]\n",
    ")\n",
    "\n",
    "chef_chain = chef_prompt | chat"
   ],
   "metadata": {
    "collapsed": false,
    "ExecuteTime": {
     "end_time": "2023-12-09T15:25:05.912971400Z",
     "start_time": "2023-12-09T15:25:03.685756500Z"
    }
   },
   "id": "e40c744da655e4f7"
  },
  {
   "cell_type": "code",
   "execution_count": 2,
   "outputs": [],
   "source": [
    "veg_chef_prompt = ChatPromptTemplate.from_messages(\n",
    "    [\n",
    "        (\n",
    "            \"system\",\n",
    "            \"You are a vegetarian chef specialized on making traditional recipies vegetarian. You find alternative ingredients and explain their preparation. You don't radically modify the recipe. If there is no alternative for a food just say you don't know how to replace it.\",\n",
    "        ),\n",
    "        (\"human\", \"{recipe}\"),\n",
    "    ]\n",
    ")\n",
    "\n",
    "\n",
    "veg_chain = veg_chef_prompt | chat\n",
    "\n",
    "\n",
    "final_chain = {\"recipe\": chef_chain} | veg_chain"
   ],
   "metadata": {
    "collapsed": false,
    "ExecuteTime": {
     "end_time": "2023-12-09T15:25:11.693061600Z",
     "start_time": "2023-12-09T15:25:11.676439800Z"
    }
   },
   "id": "de70b42fa41fcc6c"
  },
  {
   "cell_type": "code",
   "execution_count": 3,
   "outputs": [
    {
     "name": "stdout",
     "output_type": "stream",
     "text": [
      "That's great! Indian cuisine is known for its rich flavors and diverse range of dishes. Here's a simple recipe for you to try:\n",
      "\n",
      "Butter Chicken (Murgh Makhani):\n",
      "Ingredients:\n",
      "- 500g boneless chicken, cut into pieces\n",
      "- 2 tablespoons butter\n",
      "- 1 onion, finely chopped\n",
      "- 2 teaspoons ginger-garlic paste\n",
      "- 2 teaspoons red chili powder\n",
      "- 1 teaspoon turmeric powder\n",
      "- 1 teaspoon garam masala\n",
      "- 1 cup tomato puree\n",
      "- 1/2 cup heavy cream\n",
      "- Salt to taste\n",
      "- Fresh coriander leaves for garnish\n",
      "\n",
      "Instructions:\n",
      "1. Heat butter in a pan over medium heat. Add the chopped onions and sauté until golden brown.\n",
      "2. Add ginger-garlic paste and sauté for a minute until fragrant.\n",
      "3. Add red chili powder, turmeric powder, and garam masala. Mix well and cook for a minute.\n",
      "4. Add tomato puree and cook for 5-7 minutes until the oil separates from the masala.\n",
      "5. Add the chicken pieces and cook until they are no longer pink.\n",
      "6. Reduce the heat to low and add the heavy cream. Stir well and let it simmer for 10-15 minutes.\n",
      "7. Season with salt according to taste.\n",
      "8. Garnish with fresh coriander leaves.\n",
      "9. Serve hot with naan bread or steamed rice.\n",
      "Enjoy your homemade Butter Chicken!To make a vegetarian version of Butter Chicken (Murgh Makhani), you can replace the chicken with a plant-based alternative such as tofu or paneer (Indian cottage cheese). Here's how you can modify the recipe:\n",
      "Ingredients:\n",
      "- 500g tofu or paneer, cut into pieces\n",
      "- 2 tablespoons butter (you can use vegan butter or oil as a substitute)\n",
      "- 1 onion, finely chopped\n",
      "- 2 teaspoons ginger-garlic paste\n",
      "- 2 teaspoons red chili powder\n",
      "- 1 teaspoon turmeric powder\n",
      "- 1 teaspoon garam masala\n",
      "- 1 cup tomato puree\n",
      "- 1/2 cup vegan heavy cream (made from plant-based milk like coconut milk or cashew cream)\n",
      "- Salt to taste\n",
      "- Fresh coriander leaves for garnish\n",
      "Instructions:\n",
      "1. Heat butter or oil in a pan over medium heat. Add the chopped onions and sauté until golden brown.\n",
      "2. Add ginger-garlic paste and sauté for a minute until fragrant.\n",
      "3. Add red chili powder, turmeric powder, and garam masala. Mix well and cook for a minute.\n",
      "4. Add tomato puree and cook for 5-7 minutes until the oil separates from the masala.\n",
      "5. Add the tofu or paneer pieces and cook until they are heated through.\n",
      "6. Reduce the heat to low and add the vegan heavy cream. Stir well and let it simmer for 10-15 minutes.\n",
      "7. Season with salt according to taste.\n",
      "8. Garnish with fresh coriander leaves.\n",
      "9. Serve hot with naan bread or steamed rice.\n",
      "By substituting the chicken with tofu or paneer, you can still enjoy the rich flavors of Butter Chicken while keeping it vegetarian-friendly."
     ]
    },
    {
     "data": {
      "text/plain": "AIMessage(content=\"To make a vegetarian version of Butter Chicken (Murgh Makhani), you can replace the chicken with a plant-based alternative such as tofu or paneer (Indian cottage cheese). Here's how you can modify the recipe:\\n\\nIngredients:\\n- 500g tofu or paneer, cut into pieces\\n- 2 tablespoons butter (you can use vegan butter or oil as a substitute)\\n- 1 onion, finely chopped\\n- 2 teaspoons ginger-garlic paste\\n- 2 teaspoons red chili powder\\n- 1 teaspoon turmeric powder\\n- 1 teaspoon garam masala\\n- 1 cup tomato puree\\n- 1/2 cup vegan heavy cream (made from plant-based milk like coconut milk or cashew cream)\\n- Salt to taste\\n- Fresh coriander leaves for garnish\\n\\nInstructions:\\n1. Heat butter or oil in a pan over medium heat. Add the chopped onions and sauté until golden brown.\\n2. Add ginger-garlic paste and sauté for a minute until fragrant.\\n3. Add red chili powder, turmeric powder, and garam masala. Mix well and cook for a minute.\\n4. Add tomato puree and cook for 5-7 minutes until the oil separates from the masala.\\n5. Add the tofu or paneer pieces and cook until they are heated through.\\n6. Reduce the heat to low and add the vegan heavy cream. Stir well and let it simmer for 10-15 minutes.\\n7. Season with salt according to taste.\\n8. Garnish with fresh coriander leaves.\\n9. Serve hot with naan bread or steamed rice.\\n\\nBy substituting the chicken with tofu or paneer, you can still enjoy the rich flavors of Butter Chicken while keeping it vegetarian-friendly.\")"
     },
     "execution_count": 3,
     "metadata": {},
     "output_type": "execute_result"
    }
   ],
   "source": [
    "final_chain.invoke({\"cuisine\": \"indian\"})"
   ],
   "metadata": {
    "collapsed": false,
    "ExecuteTime": {
     "end_time": "2023-12-09T15:25:40.427965400Z",
     "start_time": "2023-12-09T15:25:25.203991500Z"
    }
   },
   "id": "2bc53ca1d88c3fca"
  },
  {
   "cell_type": "code",
   "execution_count": null,
   "outputs": [],
   "source": [],
   "metadata": {
    "collapsed": false
   },
   "id": "b2f199d031138b1b"
  }
 ],
 "metadata": {
  "kernelspec": {
   "display_name": "Python 3",
   "language": "python",
   "name": "python3"
  },
  "language_info": {
   "codemirror_mode": {
    "name": "ipython",
    "version": 2
   },
   "file_extension": ".py",
   "mimetype": "text/x-python",
   "name": "python",
   "nbconvert_exporter": "python",
   "pygments_lexer": "ipython2",
   "version": "2.7.6"
  }
 },
 "nbformat": 4,
 "nbformat_minor": 5
}
