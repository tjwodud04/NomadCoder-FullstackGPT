{
 "cells": [
  {
   "cell_type": "code",
   "execution_count": 1,
   "id": "initial_id",
   "metadata": {
    "collapsed": true,
    "ExecuteTime": {
     "end_time": "2023-12-13T14:52:27.507624700Z",
     "start_time": "2023-12-13T14:52:27.483854700Z"
    }
   },
   "outputs": [],
   "source": [
    "import os\n",
    "\n",
    "from dotenv import load_dotenv\n",
    "\n",
    "load_dotenv()\n",
    "OPENAI_API_KEY = os.getenv('OPENAI_API_KEY')"
   ]
  },
  {
   "cell_type": "code",
   "execution_count": 2,
   "outputs": [
    {
     "data": {
      "text/plain": "\"To make Italian pasta, you will need the following ingredients:\\n\\n- 2 cups of all-purpose flour\\n- 2 large eggs\\n- 1/2 teaspoon of salt\\n- Water (if needed)\\n\\nHere's a step-by-step guide to making Italian pasta:\\n\\n1. On a clean surface or in a large mixing bowl, pour the flour and create a well in the center.\\n2. Crack the eggs into the well and add the salt.\\n3. Using a fork, gradually beat the eggs while incorporating the flour from the sides of the well. Continue until the mixture becomes too thick to mix with a fork.\\n4. Use your hands to knead the dough until it comes together into a smooth and elastic ball. If the dough is too dry, add a little water, one tablespoon at a time, until it reaches the desired consistency. If it's too sticky, add a little flour.\\n5. Once the dough is formed, cover it with a clean kitchen towel or plastic wrap and let it rest for about 30 minutes. This allows the gluten to relax and makes the dough easier to roll out.\\n6. After resting, divide the dough into smaller portions. Take one portion and flatten it with your hands.\\n7. Using a rolling pin, roll out the dough into a thin sheet. If the dough sticks to the surface or rolling pin, lightly dust it with flour.\\n8. Once the dough is rolled out, you can cut it into your desired pasta shape. For example, you can make fettuccine by cutting the dough into long, thin strips or make farfalle by cutting small rectangles and pinching them in the center.\\n9. As you cut the pasta, lay it out on a clean, lightly floured surface or hang it on a pasta drying rack to prevent sticking.\\n10. Repeat the process with the remaining dough portions until all the pasta is cut.\\n11. To cook the pasta, bring a large pot of salted water to a boil. Add the pasta and cook until al dente, which means it should still have a slight bite to it. The cooking time will vary depending on the thickness and shape of the pasta, so taste it occasionally to check for doneness.\\n12. Once cooked, drain the pasta and serve it with your favorite sauce or toppings.\\n\\nEnjoy your homemade Italian pasta!\""
     },
     "execution_count": 2,
     "metadata": {},
     "output_type": "execute_result"
    }
   ],
   "source": [
    "from langchain.chat_models import ChatOpenAI\n",
    "from langchain.globals import set_llm_cache\n",
    "from langchain.cache import InMemoryCache\n",
    "\n",
    "set_llm_cache(InMemoryCache())\n",
    "\n",
    "chat = ChatOpenAI(\n",
    "    temperature=0.1,\n",
    "    # streaming=True,\n",
    "    # callbacks=[\n",
    "    #     StreamingStdOutCallbackHandler(),\n",
    "    # ],\n",
    ")\n",
    "\n",
    "chat.predict(\"How do you make italian pasta\")\n",
    "# 13s 455ms"
   ],
   "metadata": {
    "collapsed": false,
    "ExecuteTime": {
     "end_time": "2023-12-13T14:52:42.497102500Z",
     "start_time": "2023-12-13T14:52:27.512815100Z"
    }
   },
   "id": "5afd1f2fa6fe4a8d"
  },
  {
   "cell_type": "code",
   "execution_count": 3,
   "outputs": [
    {
     "data": {
      "text/plain": "\"To make Italian pasta, you will need the following ingredients:\\n\\n- 2 cups of all-purpose flour\\n- 2 large eggs\\n- 1/2 teaspoon of salt\\n- Water (if needed)\\n\\nHere's a step-by-step guide to making Italian pasta:\\n\\n1. On a clean surface or in a large mixing bowl, pour the flour and create a well in the center.\\n2. Crack the eggs into the well and add the salt.\\n3. Using a fork, gradually beat the eggs while incorporating the flour from the sides of the well. Continue until the mixture becomes too thick to mix with a fork.\\n4. Use your hands to knead the dough until it comes together into a smooth and elastic ball. If the dough is too dry, add a little water, one tablespoon at a time, until it reaches the desired consistency. If it's too sticky, add a little flour.\\n5. Once the dough is formed, cover it with a clean kitchen towel or plastic wrap and let it rest for about 30 minutes. This allows the gluten to relax and makes the dough easier to roll out.\\n6. After resting, divide the dough into smaller portions. Take one portion and flatten it with your hands.\\n7. Using a rolling pin, roll out the dough into a thin sheet. If the dough sticks to the surface or rolling pin, lightly dust it with flour.\\n8. Once the dough is rolled out, you can cut it into your desired pasta shape. For example, you can make fettuccine by cutting the dough into long, thin strips or make farfalle by cutting small rectangles and pinching them in the center.\\n9. As you cut the pasta, lay it out on a clean, lightly floured surface or hang it on a pasta drying rack to prevent sticking.\\n10. Repeat the process with the remaining dough portions until all the pasta is cut.\\n11. To cook the pasta, bring a large pot of salted water to a boil. Add the pasta and cook until al dente, which means it should still have a slight bite to it. The cooking time will vary depending on the thickness and shape of the pasta, so taste it occasionally to check for doneness.\\n12. Once cooked, drain the pasta and serve it with your favorite sauce or toppings.\\n\\nEnjoy your homemade Italian pasta!\""
     },
     "execution_count": 3,
     "metadata": {},
     "output_type": "execute_result"
    }
   ],
   "source": [
    "chat.predict(\"How do you make italian pasta\")"
   ],
   "metadata": {
    "collapsed": false,
    "ExecuteTime": {
     "end_time": "2023-12-13T14:52:42.511155700Z",
     "start_time": "2023-12-13T14:52:42.501229Z"
    }
   },
   "id": "98ba3fc6e43b8dab"
  },
  {
   "cell_type": "code",
   "execution_count": 4,
   "outputs": [
    {
     "data": {
      "text/plain": "\"To make Italian pasta, you will need the following ingredients:\\n\\n- 2 cups of all-purpose flour\\n- 2 large eggs\\n- 1/2 teaspoon of salt\\n- Water (as needed)\\n\\nHere's a step-by-step guide to making Italian pasta:\\n\\n1. On a clean surface or in a large mixing bowl, create a well with the flour. Make sure the well is wide enough to hold the eggs.\\n\\n2. Crack the eggs into the well and add the salt.\\n\\n3. Using a fork or your fingers, gradually mix the eggs and salt into the flour. Start from the center and slowly incorporate the flour from the sides. Continue mixing until the dough starts to come together.\\n\\n4. If the dough is too dry, add a little water, one tablespoon at a time, until it reaches the right consistency. If it's too wet, add a little more flour.\\n\\n5. Once the dough comes together, knead it for about 5-10 minutes until it becomes smooth and elastic. This will help develop the gluten in the flour.\\n\\n6. Shape the dough into a ball and cover it with a clean kitchen towel or plastic wrap. Let it rest for at least 30 minutes to allow the gluten to relax.\\n\\n7. After resting, divide the dough into smaller portions. Flatten each portion with your hands or a rolling pin.\\n\\n8. Set your pasta machine to the thickest setting and pass the dough through it. Fold the dough into thirds and pass it through the machine again. Repeat this process a few times until the dough becomes smooth and pliable.\\n\\n9. Gradually decrease the thickness setting on your pasta machine and pass the dough through each setting, folding it into thirds and passing it through again. Repeat this process until you reach the desired thickness for your pasta.\\n\\n10. Once the dough is rolled out, you can cut it into your desired pasta shape. For example, you can make fettuccine, spaghetti, or lasagna sheets.\\n\\n11. If you don't have a pasta machine, you can roll out the dough with a rolling pin until it reaches the desired thickness. Then, use a sharp knife or a pizza cutter to cut it into your desired shape.\\n\\n12. After cutting the pasta, you can cook it immediately in a pot of boiling salted water for about 2-3 minutes or until al dente. Alternatively, you can let it dry for a few hours or overnight before cooking.\\n\\n13. Once cooked, drain the pasta and serve it with your favorite sauce, such as marinara, Alfredo, or pesto.\\n\\nEnjoy your homemade Italian pasta!\""
     },
     "execution_count": 4,
     "metadata": {},
     "output_type": "execute_result"
    }
   ],
   "source": [
    "from langchain.cache import SQLiteCache\n",
    "\n",
    "# Creating cache db\n",
    "set_llm_cache(SQLiteCache(\"cache.db\"))\n",
    "\n",
    "chat = ChatOpenAI(\n",
    "    temperature=0.1,\n",
    "    # streaming=True,\n",
    "    # callbacks=[\n",
    "    #     StreamingStdOutCallbackHandler(),\n",
    "    # ],\n",
    ")\n",
    "\n",
    "chat.predict(\"How do you make italian pasta\")"
   ],
   "metadata": {
    "collapsed": false,
    "ExecuteTime": {
     "end_time": "2023-12-13T14:52:59.778737200Z",
     "start_time": "2023-12-13T14:52:42.516477200Z"
    }
   },
   "id": "7be4bc7c800698e1"
  },
  {
   "cell_type": "code",
   "execution_count": 5,
   "outputs": [
    {
     "name": "stdout",
     "output_type": "stream",
     "text": [
      "\u001B[32;1m\u001B[1;3m[llm/start]\u001B[0m \u001B[1m[1:llm:ChatOpenAI] Entering LLM run with input:\n",
      "\u001B[0m{\n",
      "  \"prompts\": [\n",
      "    \"Human: How do you make italian pasta\"\n",
      "  ]\n",
      "}\n",
      "\u001B[36;1m\u001B[1;3m[llm/end]\u001B[0m \u001B[1m[1:llm:ChatOpenAI] [3ms] Exiting LLM run with output:\n",
      "\u001B[0m{\n",
      "  \"generations\": [\n",
      "    [\n",
      "      {\n",
      "        \"text\": \"To make Italian pasta, you will need the following ingredients:\\n\\n- 2 cups of all-purpose flour\\n- 2 large eggs\\n- 1/2 teaspoon of salt\\n- Water (as needed)\\n\\nHere's a step-by-step guide to making Italian pasta:\\n\\n1. On a clean surface or in a large mixing bowl, create a well with the flour. Make sure the well is wide enough to hold the eggs.\\n\\n2. Crack the eggs into the well and add the salt.\\n\\n3. Using a fork or your fingers, gradually mix the eggs and salt into the flour. Start from the center and slowly incorporate the flour from the sides. Continue mixing until the dough starts to come together.\\n\\n4. If the dough is too dry, add a little water, one tablespoon at a time, until it reaches the right consistency. If it's too wet, add a little more flour.\\n\\n5. Once the dough comes together, knead it for about 5-10 minutes until it becomes smooth and elastic. This will help develop the gluten in the flour.\\n\\n6. Shape the dough into a ball and cover it with a clean kitchen towel or plastic wrap. Let it rest for at least 30 minutes to allow the gluten to relax.\\n\\n7. After resting, divide the dough into smaller portions. Flatten each portion with your hands or a rolling pin.\\n\\n8. Set your pasta machine to the thickest setting and pass the dough through it. Fold the dough into thirds and pass it through the machine again. Repeat this process a few times until the dough becomes smooth and pliable.\\n\\n9. Gradually decrease the thickness setting on your pasta machine and pass the dough through each setting, folding it into thirds and passing it through again. Repeat this process until you reach the desired thickness for your pasta.\\n\\n10. Once the dough is rolled out, you can cut it into your desired pasta shape. For example, you can make fettuccine, spaghetti, or lasagna sheets.\\n\\n11. If you don't have a pasta machine, you can roll out the dough with a rolling pin until it reaches the desired thickness. Then, use a sharp knife or a pizza cutter to cut it into your desired shape.\\n\\n12. After cutting the pasta, you can cook it immediately in a pot of boiling salted water for about 2-3 minutes or until al dente. Alternatively, you can let it dry for a few hours or overnight before cooking.\\n\\n13. Once cooked, drain the pasta and serve it with your favorite sauce, such as marinara, Alfredo, or pesto.\\n\\nEnjoy your homemade Italian pasta!\",\n",
      "        \"generation_info\": {\n",
      "          \"finish_reason\": \"stop\"\n",
      "        },\n",
      "        \"type\": \"ChatGeneration\",\n",
      "        \"message\": {\n",
      "          \"lc\": 1,\n",
      "          \"type\": \"constructor\",\n",
      "          \"id\": [\n",
      "            \"langchain_core\",\n",
      "            \"messages\",\n",
      "            \"ai\",\n",
      "            \"AIMessage\"\n",
      "          ],\n",
      "          \"kwargs\": {\n",
      "            \"content\": \"To make Italian pasta, you will need the following ingredients:\\n\\n- 2 cups of all-purpose flour\\n- 2 large eggs\\n- 1/2 teaspoon of salt\\n- Water (as needed)\\n\\nHere's a step-by-step guide to making Italian pasta:\\n\\n1. On a clean surface or in a large mixing bowl, create a well with the flour. Make sure the well is wide enough to hold the eggs.\\n\\n2. Crack the eggs into the well and add the salt.\\n\\n3. Using a fork or your fingers, gradually mix the eggs and salt into the flour. Start from the center and slowly incorporate the flour from the sides. Continue mixing until the dough starts to come together.\\n\\n4. If the dough is too dry, add a little water, one tablespoon at a time, until it reaches the right consistency. If it's too wet, add a little more flour.\\n\\n5. Once the dough comes together, knead it for about 5-10 minutes until it becomes smooth and elastic. This will help develop the gluten in the flour.\\n\\n6. Shape the dough into a ball and cover it with a clean kitchen towel or plastic wrap. Let it rest for at least 30 minutes to allow the gluten to relax.\\n\\n7. After resting, divide the dough into smaller portions. Flatten each portion with your hands or a rolling pin.\\n\\n8. Set your pasta machine to the thickest setting and pass the dough through it. Fold the dough into thirds and pass it through the machine again. Repeat this process a few times until the dough becomes smooth and pliable.\\n\\n9. Gradually decrease the thickness setting on your pasta machine and pass the dough through each setting, folding it into thirds and passing it through again. Repeat this process until you reach the desired thickness for your pasta.\\n\\n10. Once the dough is rolled out, you can cut it into your desired pasta shape. For example, you can make fettuccine, spaghetti, or lasagna sheets.\\n\\n11. If you don't have a pasta machine, you can roll out the dough with a rolling pin until it reaches the desired thickness. Then, use a sharp knife or a pizza cutter to cut it into your desired shape.\\n\\n12. After cutting the pasta, you can cook it immediately in a pot of boiling salted water for about 2-3 minutes or until al dente. Alternatively, you can let it dry for a few hours or overnight before cooking.\\n\\n13. Once cooked, drain the pasta and serve it with your favorite sauce, such as marinara, Alfredo, or pesto.\\n\\nEnjoy your homemade Italian pasta!\",\n",
      "            \"additional_kwargs\": {}\n",
      "          }\n",
      "        }\n",
      "      }\n",
      "    ]\n",
      "  ],\n",
      "  \"llm_output\": null,\n",
      "  \"run\": null\n",
      "}\n"
     ]
    },
    {
     "data": {
      "text/plain": "\"To make Italian pasta, you will need the following ingredients:\\n\\n- 2 cups of all-purpose flour\\n- 2 large eggs\\n- 1/2 teaspoon of salt\\n- Water (as needed)\\n\\nHere's a step-by-step guide to making Italian pasta:\\n\\n1. On a clean surface or in a large mixing bowl, create a well with the flour. Make sure the well is wide enough to hold the eggs.\\n\\n2. Crack the eggs into the well and add the salt.\\n\\n3. Using a fork or your fingers, gradually mix the eggs and salt into the flour. Start from the center and slowly incorporate the flour from the sides. Continue mixing until the dough starts to come together.\\n\\n4. If the dough is too dry, add a little water, one tablespoon at a time, until it reaches the right consistency. If it's too wet, add a little more flour.\\n\\n5. Once the dough comes together, knead it for about 5-10 minutes until it becomes smooth and elastic. This will help develop the gluten in the flour.\\n\\n6. Shape the dough into a ball and cover it with a clean kitchen towel or plastic wrap. Let it rest for at least 30 minutes to allow the gluten to relax.\\n\\n7. After resting, divide the dough into smaller portions. Flatten each portion with your hands or a rolling pin.\\n\\n8. Set your pasta machine to the thickest setting and pass the dough through it. Fold the dough into thirds and pass it through the machine again. Repeat this process a few times until the dough becomes smooth and pliable.\\n\\n9. Gradually decrease the thickness setting on your pasta machine and pass the dough through each setting, folding it into thirds and passing it through again. Repeat this process until you reach the desired thickness for your pasta.\\n\\n10. Once the dough is rolled out, you can cut it into your desired pasta shape. For example, you can make fettuccine, spaghetti, or lasagna sheets.\\n\\n11. If you don't have a pasta machine, you can roll out the dough with a rolling pin until it reaches the desired thickness. Then, use a sharp knife or a pizza cutter to cut it into your desired shape.\\n\\n12. After cutting the pasta, you can cook it immediately in a pot of boiling salted water for about 2-3 minutes or until al dente. Alternatively, you can let it dry for a few hours or overnight before cooking.\\n\\n13. Once cooked, drain the pasta and serve it with your favorite sauce, such as marinara, Alfredo, or pesto.\\n\\nEnjoy your homemade Italian pasta!\""
     },
     "execution_count": 5,
     "metadata": {},
     "output_type": "execute_result"
    }
   ],
   "source": [
    "from langchain.globals import set_debug\n",
    "\n",
    "set_debug(True)\n",
    "\n",
    "chat = ChatOpenAI(\n",
    "    temperature=0.1,\n",
    "    # streaming=True,\n",
    "    # callbacks=[\n",
    "    #     StreamingStdOutCallbackHandler(),\n",
    "    # ],\n",
    ")\n",
    "\n",
    "chat.predict(\"How do you make italian pasta\")"
   ],
   "metadata": {
    "collapsed": false,
    "ExecuteTime": {
     "end_time": "2023-12-13T14:52:59.864731500Z",
     "start_time": "2023-12-13T14:52:59.780782600Z"
    }
   },
   "id": "6b65e84587ec4d54"
  },
  {
   "cell_type": "code",
   "execution_count": null,
   "outputs": [],
   "source": [],
   "metadata": {
    "collapsed": false
   },
   "id": "81af58912615c237"
  }
 ],
 "metadata": {
  "kernelspec": {
   "display_name": "Python 3",
   "language": "python",
   "name": "python3"
  },
  "language_info": {
   "codemirror_mode": {
    "name": "ipython",
    "version": 2
   },
   "file_extension": ".py",
   "mimetype": "text/x-python",
   "name": "python",
   "nbconvert_exporter": "python",
   "pygments_lexer": "ipython2",
   "version": "2.7.6"
  }
 },
 "nbformat": 4,
 "nbformat_minor": 5
}
