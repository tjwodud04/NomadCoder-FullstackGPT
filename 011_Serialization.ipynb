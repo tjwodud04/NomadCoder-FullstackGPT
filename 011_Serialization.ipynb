{
 "cells": [
  {
   "cell_type": "code",
   "execution_count": 1,
   "id": "initial_id",
   "metadata": {
    "collapsed": true,
    "ExecuteTime": {
     "end_time": "2023-12-17T16:15:12.818004100Z",
     "start_time": "2023-12-17T16:15:12.764393Z"
    }
   },
   "outputs": [],
   "source": [
    "import os\n",
    "\n",
    "from dotenv import load_dotenv\n",
    "\n",
    "load_dotenv()\n",
    "OPENAI_API_KEY = os.getenv('OPENAI_API_KEY')"
   ]
  },
  {
   "cell_type": "code",
   "execution_count": 2,
   "outputs": [
    {
     "name": "stdout",
     "output_type": "stream",
     "text": [
      "Here is a simple recipe for making soju at home:\n",
      "\n",
      "Ingredients:\n",
      "- 1 cup of rice\n",
      "- 1 cup of nuruk (Korean fermentation starter)\n",
      "- 8 cups of water\n",
      "- 1 tablespoon of yeast\n",
      "- 1 tablespoon of sugar (optional)\n",
      "\n",
      "Instructions:\n",
      "1. Rinse the rice thoroughly and soak it in water for about 1 hour.\n",
      "2. Drain the rice and transfer it to a large pot. Add 8 cups of water and bring it to a boil.\n",
      "3. Reduce the heat to low and simmer the rice for about 30 minutes, or until it becomes soft and mushy.\n",
      "4. Remove the pot from heat and let it cool down to room temperature.\n",
      "5. Once the rice has cooled, transfer it to a large fermentation container or jar.\n",
      "6. Add the nuruk and yeast to the container and mix well with a wooden spoon.\n",
      "7. Cover the container with a clean cloth or plastic wrap and let it ferment for about 7-10 days at room temperature.\n",
      "8. After the fermentation period, strain the mixture through a cheesecloth or fine mesh strainer to remove any solids.\n",
      "9. If desired, add sugar to taste and stir until dissolved.\n",
      "10. Transfer the liquid to a clean bottle or bottles and seal them tightly.\n",
      "11. Store the soju in a cool, dark place for at least 2 weeks to allow it to mature and develop its flavor.\n",
      "12. Once the soju has aged, it is ready to be enjoyed. Serve it chilled or at room temperature.\n",
      "\n",
      "Please note that making soju at home requires proper knowledge and caution. It is also important to follow local laws and regulations regarding homemade alcohol production. \n",
      "\n",
      "Here is a basic recipe for making bread:\n",
      "\n",
      "Ingredients:\n",
      "- 4 cups all-purpose flour\n",
      "- 2 teaspoons active dry yeast\n",
      "- 2 teaspoons sugar\n",
      "- 2 teaspoons salt\n",
      "- 1 ½ cups warm water\n",
      "- 2 tablespoons olive oil\n",
      "\n",
      "Instructions:\n",
      "1. In a small bowl, combine the warm water, sugar, and yeast. Stir gently and let it sit for about 5 minutes until the mixture becomes frothy.\n",
      "\n",
      "2. In a large mixing bowl, combine the flour and salt. Make a well in the center and pour in the yeast mixture and olive oil.\n",
      "\n",
      "3. Stir the ingredients together until a dough forms. If the dough is too sticky, gradually add more flour, a tablespoon at a time, until it becomes manageable.\n",
      "\n",
      "4. Transfer the dough onto a floured surface and knead it for about 10 minutes until it becomes smooth and elastic.\n",
      "\n",
      "5. Place the dough in a greased bowl, cover it with a clean kitchen towel, and let it rise in a warm place for about 1-2 hours or until it doubles in size.\n",
      "\n",
      "6. Once the dough has risen, punch it down to release any air bubbles. Shape it into a loaf by rolling it tightly and tucking the ends underneath.\n",
      "\n",
      "7. Place the shaped dough onto a greased or parchment-lined baking sheet. Cover it with a kitchen towel and let it rise for another 30-45 minutes.\n",
      "\n",
      "8. Preheat the oven to 425°F (220°C). Optionally, you can brush the top of the loaf with milk or beaten egg for a shiny crust.\n",
      "\n",
      "9. Bake the bread for about 25-30 minutes or until it turns golden brown and sounds hollow when tapped on the bottom.\n",
      "\n",
      "10. Remove the bread from the oven and let it cool on a wire rack before slicing and serving.\n",
      "\n",
      "Note: This is a basic bread recipe, and you can customize it by adding ingredients like herbs, cheese, or seeds to the dough for different flavors. \n",
      "\n",
      "Tokens Used: 775\n",
      "\tPrompt Tokens: 27\n",
      "\tCompletion Tokens: 748\n",
      "Successful Requests: 2\n",
      "Total Cost (USD): $0.0015365\n"
     ]
    }
   ],
   "source": [
    "from langchain.chat_models import ChatOpenAI\n",
    "from langchain.callbacks import get_openai_callback\n",
    "\n",
    "chat = ChatOpenAI(\n",
    "    temperature=0.1,\n",
    ")\n",
    "\n",
    "\n",
    "with get_openai_callback() as usage:\n",
    "    a = chat.predict(\"What is the recipe for soju\")\n",
    "    b = chat.predict(\"What is the recipe for bread\")\n",
    "    print(a, \"\\n\")\n",
    "    print(b, \"\\n\")\n",
    "    print(usage)"
   ],
   "metadata": {
    "collapsed": false,
    "ExecuteTime": {
     "end_time": "2023-12-17T16:15:40.292813900Z",
     "start_time": "2023-12-17T16:15:12.816261400Z"
    }
   },
   "id": "5afd1f2fa6fe4a8d"
  },
  {
   "cell_type": "code",
   "execution_count": 2,
   "outputs": [],
   "source": [],
   "metadata": {
    "collapsed": false,
    "ExecuteTime": {
     "end_time": "2023-12-17T16:15:40.292813900Z",
     "start_time": "2023-12-17T16:15:40.292813900Z"
    }
   },
   "id": "6a365a68e9e3988e"
  }
 ],
 "metadata": {
  "kernelspec": {
   "display_name": "Python 3",
   "language": "python",
   "name": "python3"
  },
  "language_info": {
   "codemirror_mode": {
    "name": "ipython",
    "version": 2
   },
   "file_extension": ".py",
   "mimetype": "text/x-python",
   "name": "python",
   "nbconvert_exporter": "python",
   "pygments_lexer": "ipython2",
   "version": "2.7.6"
  }
 },
 "nbformat": 4,
 "nbformat_minor": 5
}
