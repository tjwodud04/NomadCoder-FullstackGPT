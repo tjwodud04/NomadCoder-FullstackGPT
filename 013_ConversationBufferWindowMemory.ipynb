{
 "cells": [
  {
   "cell_type": "code",
   "execution_count": 1,
   "id": "initial_id",
   "metadata": {
    "collapsed": true,
    "ExecuteTime": {
     "end_time": "2024-01-03T12:48:02.780285500Z",
     "start_time": "2024-01-03T12:47:56.088867700Z"
    }
   },
   "outputs": [],
   "source": [
    "from langchain.memory import ConversationBufferWindowMemory\n",
    "\n",
    "memory = ConversationBufferWindowMemory(\n",
    "    return_messages=True,\n",
    "    k=4,\n",
    ")"
   ]
  },
  {
   "cell_type": "code",
   "execution_count": 2,
   "outputs": [],
   "source": [
    "def add_message(input, output) :\n",
    "    memory.save_context({\"input\":input}, {\"output\":output})"
   ],
   "metadata": {
    "collapsed": false,
    "ExecuteTime": {
     "end_time": "2024-01-03T12:50:46.119608100Z",
     "start_time": "2024-01-03T12:50:46.080196600Z"
    }
   },
   "id": "4e8197ac51b58805"
  },
  {
   "cell_type": "code",
   "execution_count": 3,
   "outputs": [
    {
     "data": {
      "text/plain": "{'history': [HumanMessage(content='1'),\n  AIMessage(content='1'),\n  HumanMessage(content='2'),\n  AIMessage(content='2'),\n  HumanMessage(content='3'),\n  AIMessage(content='3'),\n  HumanMessage(content='4'),\n  AIMessage(content='4')]}"
     },
     "execution_count": 3,
     "metadata": {},
     "output_type": "execute_result"
    }
   ],
   "source": [
    "add_message(1,1)\n",
    "add_message(2,2)\n",
    "add_message(3,3)\n",
    "add_message(4,4)\n",
    "\n",
    "memory.load_memory_variables({})"
   ],
   "metadata": {
    "collapsed": false,
    "ExecuteTime": {
     "end_time": "2024-01-03T12:51:29.869509400Z",
     "start_time": "2024-01-03T12:51:29.818559300Z"
    }
   },
   "id": "e5a0433e9ebef94d"
  },
  {
   "cell_type": "code",
   "execution_count": 4,
   "outputs": [
    {
     "data": {
      "text/plain": "{'history': [HumanMessage(content='2'),\n  AIMessage(content='2'),\n  HumanMessage(content='3'),\n  AIMessage(content='3'),\n  HumanMessage(content='4'),\n  AIMessage(content='4'),\n  HumanMessage(content='5'),\n  AIMessage(content='5')]}"
     },
     "execution_count": 4,
     "metadata": {},
     "output_type": "execute_result"
    }
   ],
   "source": [
    "add_message(5,5)\n",
    "\n",
    "memory.load_memory_variables({})"
   ],
   "metadata": {
    "collapsed": false,
    "ExecuteTime": {
     "end_time": "2024-01-03T12:51:44.821609200Z",
     "start_time": "2024-01-03T12:51:44.728403300Z"
    }
   },
   "id": "2e08c88b13bc16ef"
  },
  {
   "cell_type": "code",
   "execution_count": null,
   "outputs": [],
   "source": [],
   "metadata": {
    "collapsed": false
   },
   "id": "fe6ebf9dd1c4254b"
  }
 ],
 "metadata": {
  "kernelspec": {
   "display_name": "Python 3",
   "language": "python",
   "name": "python3"
  },
  "language_info": {
   "codemirror_mode": {
    "name": "ipython",
    "version": 2
   },
   "file_extension": ".py",
   "mimetype": "text/x-python",
   "name": "python",
   "nbconvert_exporter": "python",
   "pygments_lexer": "ipython2",
   "version": "2.7.6"
  }
 },
 "nbformat": 4,
 "nbformat_minor": 5
}
