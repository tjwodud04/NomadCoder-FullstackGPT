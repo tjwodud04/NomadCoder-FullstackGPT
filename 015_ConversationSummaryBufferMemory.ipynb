{
 "cells": [
  {
   "cell_type": "code",
   "execution_count": 1,
   "id": "initial_id",
   "metadata": {
    "collapsed": true,
    "ExecuteTime": {
     "end_time": "2024-01-03T13:02:22.236906900Z",
     "start_time": "2024-01-03T13:02:22.168706Z"
    }
   },
   "outputs": [],
   "source": [
    "import os\n",
    "\n",
    "from dotenv import load_dotenv\n",
    "\n",
    "load_dotenv()\n",
    "OPENAI_API_KEY = os.getenv('OPENAI_API_KEY')"
   ]
  },
  {
   "cell_type": "code",
   "execution_count": 2,
   "outputs": [],
   "source": [
    "from langchain.memory import ConversationSummaryBufferMemory\n",
    "from langchain.chat_models import ChatOpenAI\n",
    "\n",
    "llm = ChatOpenAI(temperature=0.1)\n",
    "\n",
    "memory = ConversationSummaryBufferMemory(\n",
    "    llm=llm,\n",
    "    max_token_limit=100,\n",
    "    return_messages=True,\n",
    ")\n",
    "\n",
    "\n",
    "def add_message(input, output):\n",
    "    memory.save_context({\"input\": input}, {\"output\": output})\n",
    "\n",
    "\n",
    "def get_history():\n",
    "    return memory.load_memory_variables({})"
   ],
   "metadata": {
    "collapsed": false,
    "ExecuteTime": {
     "end_time": "2024-01-03T13:02:34.806382100Z",
     "start_time": "2024-01-03T13:02:22.248421500Z"
    }
   },
   "id": "edbb12057bed2b1f"
  },
  {
   "cell_type": "code",
   "execution_count": 3,
   "outputs": [
    {
     "data": {
      "text/plain": "{'history': [HumanMessage(content=\"Hi I'm Nicolas, I live in South Korea\"),\n  AIMessage(content='Wow that is so cool!')]}"
     },
     "execution_count": 3,
     "metadata": {},
     "output_type": "execute_result"
    }
   ],
   "source": [
    "add_message(\"Hi I'm Nicolas, I live in South Korea\", \"Wow that is so cool!\")\n",
    "\n",
    "get_history()"
   ],
   "metadata": {
    "collapsed": false,
    "ExecuteTime": {
     "end_time": "2024-01-03T13:02:45.102625800Z",
     "start_time": "2024-01-03T13:02:34.811885Z"
    }
   },
   "id": "6b3e34ffe719d4d9"
  },
  {
   "cell_type": "code",
   "execution_count": 4,
   "outputs": [
    {
     "data": {
      "text/plain": "{'history': [HumanMessage(content=\"Hi I'm Nicolas, I live in South Korea\"),\n  AIMessage(content='Wow that is so cool!'),\n  HumanMessage(content='South Korea is so pretty'),\n  AIMessage(content='I wish I could go!!!')]}"
     },
     "execution_count": 4,
     "metadata": {},
     "output_type": "execute_result"
    }
   ],
   "source": [
    "add_message(\"South Korea is so pretty\", \"I wish I could go!!!\")\n",
    "\n",
    "get_history()"
   ],
   "metadata": {
    "collapsed": false,
    "ExecuteTime": {
     "end_time": "2024-01-03T13:02:45.175559900Z",
     "start_time": "2024-01-03T13:02:45.103983500Z"
    }
   },
   "id": "79b9a962eb9ad414"
  },
  {
   "cell_type": "code",
   "execution_count": 5,
   "outputs": [
    {
     "data": {
      "text/plain": "{'history': [HumanMessage(content=\"Hi I'm Nicolas, I live in South Korea\"),\n  AIMessage(content='Wow that is so cool!'),\n  HumanMessage(content='South Korea is so pretty'),\n  AIMessage(content='I wish I could go!!!'),\n  HumanMessage(content='How far is Korea from Argentina?'),\n  AIMessage(content=\"I don't know! Super far!\")]}"
     },
     "execution_count": 5,
     "metadata": {},
     "output_type": "execute_result"
    }
   ],
   "source": [
    "add_message(\"How far is Korea from Argentina?\", \"I don't know! Super far!\")\n",
    "\n",
    "get_history()"
   ],
   "metadata": {
    "collapsed": false,
    "ExecuteTime": {
     "end_time": "2024-01-03T13:02:45.613873400Z",
     "start_time": "2024-01-03T13:02:45.587115500Z"
    }
   },
   "id": "e36930a3911034e4"
  },
  {
   "cell_type": "code",
   "execution_count": 6,
   "outputs": [
    {
     "data": {
      "text/plain": "{'history': [HumanMessage(content=\"Hi I'm Nicolas, I live in South Korea\"),\n  AIMessage(content='Wow that is so cool!'),\n  HumanMessage(content='South Korea is so pretty'),\n  AIMessage(content='I wish I could go!!!'),\n  HumanMessage(content='How far is Korea from Argentina?'),\n  AIMessage(content=\"I don't know! Super far!\"),\n  HumanMessage(content='How far is Brazil from Argentina?'),\n  AIMessage(content=\"I don't know! Super far!\")]}"
     },
     "execution_count": 6,
     "metadata": {},
     "output_type": "execute_result"
    }
   ],
   "source": [
    "add_message(\"How far is Brazil from Argentina?\", \"I don't know! Super far!\")\n",
    "\n",
    "get_history()"
   ],
   "metadata": {
    "collapsed": false,
    "ExecuteTime": {
     "end_time": "2024-01-03T13:03:05.157778100Z",
     "start_time": "2024-01-03T13:03:05.115851100Z"
    }
   },
   "id": "fb30b76faeba5ddc"
  },
  {
   "cell_type": "code",
   "execution_count": 7,
   "outputs": [
    {
     "data": {
      "text/plain": "{'history': [SystemMessage(content='The human introduces themselves as Nicolas and mentions that they live in South Korea. The AI responds by expressing excitement and finding it cool.'),\n  HumanMessage(content='South Korea is so pretty'),\n  AIMessage(content='I wish I could go!!!'),\n  HumanMessage(content='How far is Korea from Argentina?'),\n  AIMessage(content=\"I don't know! Super far!\"),\n  HumanMessage(content='How far is Brazil from Argentina?'),\n  AIMessage(content=\"I don't know! Super far!\"),\n  HumanMessage(content='How far is Korea from BraZil?'),\n  AIMessage(content=\"It's quite Super far!\")]}"
     },
     "execution_count": 7,
     "metadata": {},
     "output_type": "execute_result"
    }
   ],
   "source": [
    "add_message(\"How far is Korea from BraZil?\", \"It's quite Super far!\")\n",
    "\n",
    "get_history()"
   ],
   "metadata": {
    "collapsed": false,
    "ExecuteTime": {
     "end_time": "2024-01-03T13:03:54.340544Z",
     "start_time": "2024-01-03T13:03:52.851208300Z"
    }
   },
   "id": "fa4ec1f16fe6bfb3"
  },
  {
   "cell_type": "code",
   "execution_count": null,
   "outputs": [],
   "source": [],
   "metadata": {
    "collapsed": false
   },
   "id": "d29b240d21e4888f"
  }
 ],
 "metadata": {
  "kernelspec": {
   "display_name": "Python 3",
   "language": "python",
   "name": "python3"
  },
  "language_info": {
   "codemirror_mode": {
    "name": "ipython",
    "version": 2
   },
   "file_extension": ".py",
   "mimetype": "text/x-python",
   "name": "python",
   "nbconvert_exporter": "python",
   "pygments_lexer": "ipython2",
   "version": "2.7.6"
  }
 },
 "nbformat": 4,
 "nbformat_minor": 5
}
